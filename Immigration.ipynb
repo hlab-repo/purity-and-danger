{
  "nbformat": 4,
  "nbformat_minor": 0,
  "metadata": {
    "colab": {
      "name": "Immigration.ipynb",
      "provenance": [],
      "collapsed_sections": [],
      "authorship_tag": "ABX9TyMOLT/iJRW2mwWhOZ3VZMLW",
      "include_colab_link": true
    },
    "kernelspec": {
      "name": "python3",
      "display_name": "Python 3"
    },
    "language_info": {
      "name": "python"
    },
    "accelerator": "GPU"
  },
  "cells": [
    {
      "cell_type": "markdown",
      "metadata": {
        "id": "view-in-github",
        "colab_type": "text"
      },
      "source": [
        "<a href=\"https://colab.research.google.com/github/hlab-repo/purity-and-danger/blob/master/Immigration.ipynb\" target=\"_parent\"><img src=\"https://colab.research.google.com/assets/colab-badge.svg\" alt=\"Open In Colab\"/></a>"
      ]
    },
    {
      "cell_type": "markdown",
      "metadata": {
        "id": "lGNecY0ujs2w"
      },
      "source": [
        "# Creating a Model for Immigration and Outsider Language\n",
        "\n",
        "This notebook starts with a baseline system and then provides users the opportunity to attempt to improve performance with their own custom, complete system."
      ]
    },
    {
      "cell_type": "markdown",
      "metadata": {
        "id": "4BiHtT8qkT38"
      },
      "source": [
        "## Set-up"
      ]
    },
    {
      "cell_type": "code",
      "metadata": {
        "id": "SMeyDaZAn70Q"
      },
      "source": [
        "%%capture\n",
        "!pip install datasets\n",
        "!pip install transformers"
      ],
      "execution_count": null,
      "outputs": []
    },
    {
      "cell_type": "code",
      "metadata": {
        "id": "F9fKFwGsP22I"
      },
      "source": [
        "import re\n",
        "from collections import Counter\n",
        "import datasets\n",
        "import pandas as pd\n",
        "import torch\n",
        "import torch.nn as nn\n",
        "import torch.optim as optim\n",
        "from sklearn.feature_extraction.text import TfidfVectorizer\n",
        "from sklearn.metrics import accuracy_score, confusion_matrix, f1_score, precision_score, recall_score\n",
        "from sklearn.model_selection import train_test_split\n",
        "from sklearn.naive_bayes import MultinomialNB\n",
        "from torch.utils.data import DataLoader\n",
        "from transformers import BertTokenizer, BertForSequenceClassification"
      ],
      "execution_count": null,
      "outputs": []
    },
    {
      "cell_type": "markdown",
      "metadata": {
        "id": "7wGdZXKcgcf7"
      },
      "source": [
        "## Getting a test dataset"
      ]
    },
    {
      "cell_type": "markdown",
      "metadata": {
        "id": "0YKxr_AzwQNh"
      },
      "source": [
        "We can start with the Common Crawl news corpus (January 2017 - December 2019). See here for details:\n",
        "\n",
        "https://huggingface.co/datasets/cc_news\n",
        "\n",
        "This will constitute our test dataset. Note that the pseudolabels were generated from the beginning of this dataset but that the dataset (of 708,241 news articles) was in no way exhausted. You could perhaps skip the first 20,000 or so articles to deal only with new data."
      ]
    },
    {
      "cell_type": "code",
      "metadata": {
        "id": "eH8YRQzskXCL"
      },
      "source": [
        "# this could take several minutes\n",
        "dataset = datasets.load_dataset('cc_news')"
      ],
      "execution_count": null,
      "outputs": []
    },
    {
      "cell_type": "code",
      "metadata": {
        "colab": {
          "base_uri": "https://localhost:8080/"
        },
        "id": "Vlx6xoDidiTa",
        "outputId": "8520fa72-908a-450b-a6f5-674ba889ac65"
      },
      "source": [
        "dataset"
      ],
      "execution_count": null,
      "outputs": [
        {
          "output_type": "execute_result",
          "data": {
            "text/plain": [
              "DatasetDict({\n",
              "    train: Dataset({\n",
              "        features: ['title', 'text', 'domain', 'date', 'description', 'url', 'image_url'],\n",
              "        num_rows: 708241\n",
              "    })\n",
              "})"
            ]
          },
          "metadata": {
            "tags": []
          },
          "execution_count": 3
        }
      ]
    },
    {
      "cell_type": "code",
      "metadata": {
        "colab": {
          "base_uri": "https://localhost:8080/"
        },
        "id": "aEif50ojdmoa",
        "outputId": "10adf855-ec24-4280-e074-7c0256ca62c7"
      },
      "source": [
        "# look at the first 10 samples\n",
        "for i, s in enumerate(dataset['train']):\n",
        "    print(s)\n",
        "    if i >= 10:\n",
        "        break"
      ],
      "execution_count": null,
      "outputs": [
        {
          "output_type": "stream",
          "text": [
            "{'date': '2017-04-17 00:00:00', 'description': \"Officials unsealed court documents Monday (April 17) to reveal details surrounding the first searches of Prince's Paisley Park estate.\", 'domain': '1041jackfm.cbslocal.com', 'image_url': 'https://cbs1041jackfm.files.wordpress.com/2017/04/prince-young-and-sad.jpg?w=946', 'text': 'By Abby Hassler\\nOfficials unsealed court documents Monday (April 17) to reveal details surrounding the first searches of Prince’s Paisley Park estate following his untimely death.\\nRelated: Prince’s Ex-Wife Mayte Garcia Says Memoir is not a Tell-All\\nThe unsealed search warrants don’t confirm the source of the drug, fentanyl, that led to the 57-year-old singer’s accidental, self-administered overdose last April, according to The Star Tribune.\\nInvestigators found no prescriptions in Prince’s name, however, Dr. Michael Todd Schulenberg told detectives he had written a prescription for oxycodone, which is also an opioid, under the name of long-time Prince associate and drummer Kirk Johnson.\\nBetween April 21 and Sept. 19, 2016, Carver County authorities conducted investigations into Prince’s death with a total of 11 search warrants.', 'title': 'Prince Search Warrants Unsealed, Answer Few Questions', 'url': 'http://1041jackfm.cbslocal.com/2017/04/17/prince-search-warrants-unsealed-2/'}\n",
            "{'date': '2017-08-14 00:00:00', 'description': '\"The spirit of Green Day has always been about rising above oppression.\"', 'domain': '1041jackfm.cbslocal.com', 'image_url': 'https://cbs1041jackfm.files.wordpress.com/2017/08/billie-joe-armstrong-theo-wargo-getty-images.jpg?w=946', 'text': 'By Abby Hassler\\nGreen Day’s Billie Joe Armstrong has always been outspoken about his political beliefs. Following the tragedy in Charlottesville, Virgina, over the weekend, Armstrong felt the need to speak out against the white supremacists who caused much of the violence.\\nRelated: Billie Joe Armstrong Wins #TBT with Childhood Studio Photo\\n“My heart feels heavy. I feel like what happened in Charlottesville goes beyond the point of anger,” Armstrong wrote on Facebook. “It makes me sad and desperate. shocked. I f—— hate racism more than anything.”\\n“The spirit of Green Day has always been about rising above oppression. and sticking up for what you believe in and singing it at the top of your lungs,” Armstrong continued. “We grew up fearing nuclear holocaust because of the cold war. those days are feeling way too relevant these days. these issues are our ugly past.. and now it’s coming to haunt us. always resist these doomsday politicians. and in the words of our punk forefathers .. Nazi punks f— off.”', 'title': 'Green Day’s Billie Joe Armstrong Rails Against White Nationalists', 'url': 'http://1041jackfm.cbslocal.com/2017/08/14/billie-joe-armstrong-white-nationalists/'}\n",
            "{'date': '2017-02-15 00:00:00', 'description': 'The concept, which has broken YouTube records and dominated social media, remains as simple and delightful as ever. Only this time, a rotating cast of celebrities will replace James Corden.', 'domain': '1041jackfm.cbslocal.com', 'image_url': 'https://cbs1041jackfm.files.wordpress.com/2017/02/metallica-carpool.jpg?w=946', 'text': 'By Hayden Wright\\nA trailer has been released for the next sequence of Carpool Karaoke videos, and the lineup is stellar. The CBS late-night segment will stream on Apple Music in a similar format, but with new guests and even crazier moments behind the wheel. The concept, which has broken YouTube records and dominated social media, remains as simple and delightful as ever. Only this time, a rotating cast of celebrities will replace James Corden.\\nRelated: Adele’s ‘Carpool Karaoke’ is the Most Popular Viral Video of 2016\\nHere are the moments we’re most excited for:\\nMetallica making their headbanging mark on Rihanna’s “Diamonds” with Billy Eichner.\\nJohn Legend duetting on with Alicia Keys on her breakout hit, “Falling.”\\nAriana Grande belting the Little Shop of Horrors soundtrack with Seth MacFarlane.\\nJames Corden’s return with Will Smith — they rap the Fresh Prince theme!\\nChelsea Handler slinging whiskey and singing Bon Jovi’s “Living on a Prayer” with Blake Shelton.\\nCorden also presides over an epic, R. Kelly-inspired key change for the Carpool Karaoke franchise — there’s a helicopter.\\nA new installment will drop on Apple Music each week and the premiere is “coming soon.”\\nWatch the preview here:', 'title': 'Upcoming ‘Carpool Karaoke’ Series Looks Epic', 'url': 'http://1041jackfm.cbslocal.com/2017/02/15/carpool-karaoke-series-epic/'}\n",
            "{'date': '2017-01-01 00:00:00', 'description': '\"S--- happens,\" said Carey.', 'domain': '1041jackfm.cbslocal.com', 'image_url': 'https://cbs1041jackfm.files.wordpress.com/2017/01/mariah-carey-getty.jpg?w=946', 'text': 'By Brian Ives\\nSo, you’re Mariah Carey, one of the world’s biggest stars for a quarter of a century, and you fail on national TV, big time. How do you handle it?\\nAs it turns out, you handle it with humor.\\nRelated: Mariah Carey Shades Ariana Grande, Demi Lovato\\nFor those just waking up now: in case you were totally absent from social media on New Year’s Eve (and if so, good for you!), Mariah Carey had a disastrous performance—or perhaps, non-performance is a better way to describe it—on Dick Clark’s New Year’s Rockin’ Eve last night. As CBS News reported, Carey “paced the stage without singing. It’s unclear what exactly were the technical difficulties, but the disaster was obvious as it unfolded live.”\\nPredictably, twitter erupted with mockery, including memes about 2016 claiming its final victim (Mariah Carey’s career).\\nCarey’s response was a single [NSFW] tweet, “S— happens. Have a happy and healthy new year everybody! Here’s to making more headlines in 2017.”', 'title': 'Mariah Carey Reacts to Her NYE Performance with Humor', 'url': 'http://1041jackfm.cbslocal.com/2017/01/01/mariah-carey-reacts-to-her-nye-performance-with-humor/'}\n",
            "{'date': '2017-10-06 00:00:00', 'description': 'Dubbed the \"Raw Sessions Versions,\" the tracks are prototypes for the songs we know.', 'domain': '1041jackfm.cbslocal.com', 'image_url': 'https://cbs1041jackfm.files.wordpress.com/2017/10/queen-photo-by-rogers-express-getty-images.jpg?w=946', 'text': 'By Hayden Wright\\nLast month, Queen announced a deluxe box set celebrating the 40th anniversary of their 1977 album News of the World. In the press release, the band promised “Every lead vocal is different, as are most of the lead guitar parts and a great many other instrumental details.” Now Queen have revealed the reissue versions of “We Are the Champions” and “We Will Rock You,” two of the band’s best-loved songs.\\nRelated: Queen Detail ‘News of the World’ Deluxe Box Set\\nDubbed the “Raw Sessions Versions,” the tracks are prototypes for the songs we know: Freddie Mercury’s vocals are a bit looser on “We Will Rock You,” which begins with a few warmup bars of singing. Brian May’s guitar solo is quite different, too. You get the sense that Queen were feeling their way through the tracks as they recorded earlier versions. The piano arrangement on “We Are the Champions” is brighter and happier.\\nThe News of the World box set debuts November 17. Listen to the never-before-heard raw sessions here:', 'title': 'Queen Release Alternate Takes of Classic Songs \" 104.1 Jack FM', 'url': 'http://1041jackfm.cbslocal.com/2017/10/06/queen-studio-outtakes-we-will-rock-you-we-are-the-champions/'}\n",
            "{'date': '2017-02-14 00:00:00', 'description': 'Katy Perry, Paul McCarteny and Miley Cyrus are just a few of the artists to spread the love.', 'domain': '1041jackfm.cbslocal.com', 'image_url': 'https://cbs1041jackfm.files.wordpress.com/2017/02/grammy-red-carpet-43.jpg?w=946', 'text': \"By Radio.com Staff\\nIt’s Valentine’s day and artists are taking to social media to show love for their fans and significant others.\\nRelated: John Mayer is Cupid’s Secret Weapon\\nKaty Perry, Paul McCartney and Miley Cyrus are just a few of the musicians to spread the love.\\nChris Young had his tongue planted firmly in his cheek when he wished fans a “Happy Taco Tuesday,” and then there was Kesha, who loves her fans, but worries her cats will eat her. Valid concern.\\nCheck out the best Valentine’s Day messages below.\\n❤✨So much love for my #KatyCats on this mushy day! Thanks for keeping me floating and grounded all at the same time… twitter.com/i/web/status/8… —\\nKATY PERRY (@katyperry) February 14, 2017\\nAll we need is love. Happy Valentine's Day. X #ValentinesDay https://t.co/DsxieopcYJ —\\nPaul McCartney (@PaulMcCartney) February 14, 2017\\nHappy Valentine's Day https://t.co/p4VIPntyHx —\\nKim Kardashian West (@KimKardashian) February 14, 2017\\nHave a Happy Hippie Valentimezzzzz! TBTuesday to my date night with @tywrent!!!!!! It's all about L-O-V-E everyday.… twitter.com/i/web/status/8… —\\nMiley Ray Cyrus (@MileyCyrus) February 14, 2017\\nHappy Valentine's Day to all our fans ❤️ https://t.co/IzYZEVsyEX —\\nPearl Jam (@PearlJam) February 14, 2017\\nHappy Valentine's Day ❤😘😍 I love you —\\nAustin Mahone (@AustinMahone) February 14, 2017\\nHappy Valentines Day X Adam https://t.co/eiKiysyNE3 —\\n(@U2) February 14, 2017\\nHappy Valentine's Day, ya creeps. —\\nMark Hoppus (@markhoppus) February 14, 2017\\nI think I'm forgetting something today... Oh yeah! Happy Taco Tuesday everybody! —\\n(@ChrisYoungMusic) February 14, 2017\", 'title': 'Musicians Wish Fans a Happy Valentine’s Day', 'url': 'http://1041jackfm.cbslocal.com/2017/02/14/musicians-happy-valentines-day/'}\n",
            "{'date': '2017-08-14 00:00:00', 'description': \"The lineup for the four tour dates will feature Don Henley, Joe Walsh and Timothy B. Schmit with Frey's son Deacon and Vince Gill.\", 'domain': '1041jackfm.cbslocal.com', 'image_url': 'https://cbs1041jackfm.files.wordpress.com/2017/08/the-eagles-kennedy-center.jpg?w=946', 'text': \"By Annie Reuter\\nThe Eagles have announced four new concert dates. The lineup for the short run will feature Don Henley, Joe Walsh and Timothy B. Schmit with Frey’s son, Deacon, and Vince Gill filling in for the late Glenn Frey.\\nRelated: Vince Gill to Join Eagles for Classic East and West Shows\\nAn Evening with the Eagles will stop at the Greensboro Coliseum in North Carolina on October 17 followed by a show a Philips Arena in Atlanta, Georgia. on October 20. The band will return to Louisville, Kentucky on October 24 at KFC Yum! Center before traveling to the late Glenn Frey’s hometown of Detroit, Michigan on October 27 to wrap up the run at Little Caesars Arena.\\nTickets for the four new dates go on sale at Saturday (Aug. 19) at 10 am. An American Express card member pre-sale starts on Tuesday while VIP packages will be available through Eagles.com.\\nThe four new tour dates follow the success of the band’s Classic West and East shows, earlier this summer. Deacon and Gill also played with the band for those shows.\\n“Bringing Deacon in was my idea,” Don Henley told the LA Times. “I think of the guild system, which in both Eastern and Western cultures is a centuries-old tradition of the father passing down the trade to his son, and to me, that makes perfect moral and ethical sense. The primary thing is I think Glenn would be good with it—with both of these guys. I think he’d go, ‘That’s the perfect way to do this.'”\", 'title': 'The Eagles Add Four New Dates to 2017 Tour \" 104.1 Jack FM', 'url': 'http://1041jackfm.cbslocal.com/2017/08/14/the-eagles-2017-tour-dates/'}\n",
            "{'date': '2017-02-14 00:00:00', 'description': \"George Michael's manager, Michael Lippman, wanted the three artists as well as host James Corden to perform a mashup of Michael's hits.\", 'domain': '1041jackfm.cbslocal.com', 'image_url': 'https://cbs1041jackfm.files.wordpress.com/2017/02/grammy-show-60.jpg?w=946', 'text': 'By Annie Reuter\\nAdele’s tribute to George Michael on Sunday (Feb. 12) at the GRAMMY Awards was a memorable one despite an early glitch that caused her to start the song over. But the original plans for the performance were far different. At one point the tribute could have included Beyoncé and Rihanna.\\nRelated: Adele Tributes George Michael after Rocky Start at 2017 GRAMMYs\\nGeorge Michael’s manager, Michael Lippman, wanted the three artists as well as host James Corden to perform a mashup of Michael’s hits including “Freedom” and “One More Try,” GRAMMY executive producer Ken Ehrlich told Billboard,\\nThat decision shifted when Lippman found out “how passionate Adele was,” Ehrlich says, “and that she had a vision for what she wanted to do with it.” Adele would go on to perform a ballad version of Michael’s 1996 hit “Fastlove” backed by an orchestra. It was a song she recalls hearing for the first time at the age of 10 and she instantly “heard the vulnerability in that song,” Ehrlich says.\\nBackstage following her emotional GRAMMY performance, Adele raved about Michael, adding that “it was an honor” to show her respects to the singer. Later that night, Adele won GRAMMYs for Record of the Year and Album of the Year.', 'title': 'George Michael GRAMMY Tribute Plans Included Beyoncé, Rihanna', 'url': 'http://1041jackfm.cbslocal.com/2017/02/14/george-michael-grammy-tribute-plans-beyonce-rihanna/'}\n",
            "{'date': '2017-02-15 00:00:00', 'description': '\"In these trying times we need some fun. We’re very serious about fun.”', 'domain': '1041jackfm.cbslocal.com', 'image_url': 'https://cbs1041jackfm.files.wordpress.com/2017/02/deborah-harry-getty.jpg?w=946', 'text': 'By Jon Wiederhorn\\nBlondie have released a video for “Fun,” the first single from their upcoming album Pollinator. Directed by Beyoncé collaborator Dikyal Rimmasch, the clip lives up to the song’s title, featuring the band in a space ship, wandering another planet and animated footage of galactic travel contrasted with performance shots and images of people partying on the dance floor.\\nRelated: Blondie and Garbage Announce Co-Headlining Summer Tour\\nGuitarist Chris Stein said the interstellar theme was an effort to escape the stress and turmoil of modern day events. “Quoting Emma Goldman, ‘If I can’t dance I don’t want to be part of your revolution.’ In these trying times we need some fun. We’re very serious about fun,” he told NME.\\n“The video was shot in two places,” he added. “The color stuff was all shot in LA without us and the black and white stuff was shot in New York. It’s got some good cameos—it’s got a pretty big cameo from Raja, who’s one of the Drag Race superstars, and little cameos from Grace McKagan, Duff McKagan’s daughter who has a band called The Pink Slips, and also Tony Maserati, who was a producer and mixer for us.”\\nStein and vocalist Debbie Harry wrote the upbeat, disco-inflected “Fun” with TV On The Radio member Dave Sitek. Pollinator, which is scheduled for release May 5, also features writing by Johnny Marr, Sia, Charli XCX, The Strokes guitarist Nick Valensi and Dev Hynes. It will be Blondie’s first record since 2014’s Ghost of Download.', 'title': 'Blondie Release Galactic Video for New Song ‘Fun’', 'url': 'http://1041jackfm.cbslocal.com/2017/02/15/blondie-video-new-song-fun/'}\n",
            "{'date': '2017-06-14 00:00:00', 'description': 'Check out the latest from the Las Vegas rockers.', 'domain': '1041jackfm.cbslocal.com', 'image_url': 'https://s0.wp.com/wp-content/themes/vip/cbs-local/images/global/facebook/facebook-share-260x260.png', 'text': 'The Killers have released a new single titled “The Man” from their forthcoming album, Wonderful Wonderful.\\nRelated: The Killers Perform New Track, ‘Run for Cover’\\nThe track is the first new music from the band since their 2012 album Battle Born (assuming you don’t count their 2016 Christmas album Don’t Waste Your Wishes). Hopefully, this signals a fifth studio effort is imminent. “The Man” was recorded with the producer Jacknife Lee during album sessions in Las Vegas and Los Angeles. The song finds frontman Brandon Flowers looking back on his younger self, the persona from their Grammy-nominated debut Hot Fuss, and reconciling that wide-eyed character with the man he is now.\\nCheck out the latest from The Killers below.', 'title': 'Listen to The Killers’ New Track ‘The Man’', 'url': 'http://1041jackfm.cbslocal.com/2017/06/14/the-killers-the-man-3/'}\n",
            "{'date': '2017-06-14 00:00:00', 'description': \"The song is featured in the upcoming film 'The Book of Henry.'\", 'domain': '1041jackfm.cbslocal.com', 'image_url': 'https://cbs1041jackfm.files.wordpress.com/2017/06/stevienickspress.jpg?w=946', 'text': 'By Abby Hassler\\nStevie Nicks debuted a new ballad “Your Hand I Will Never Let Go” today (June 14). The track is featured in the Naomi Wats-drama, The Book of Henry, which will hit theaters this Friday (June 16).\\nRelated: Lana Del Rey Taps Stevie Nicks for New Track: Report\\nWritten by Thomas Barlett and Ryan Miller, Nicks’ song will fall alongside original music composed by Michael Giacchino on the film’s soundtrack.\\n“Drowned in thought and caught in a stare/ Talking to ghosts who were not there,” Nicks sings. “Then you took my hand/ Transformation began/ Commotion where it once was still/ Fireworks explode/ Front row tickets to the show/ This hand I will never let it go.”\\nListen to “Your Hand I Will Never Let It Go” below.', 'title': 'Stevie Nicks Debuts New Single ‘Your Hand I Will Never Let It Go’', 'url': 'http://1041jackfm.cbslocal.com/2017/06/14/stevie-nicks-your-hand-i-will-never-let-it-go/'}\n"
          ],
          "name": "stdout"
        }
      ]
    },
    {
      "cell_type": "markdown",
      "metadata": {
        "id": "5xYpQogNtm5g"
      },
      "source": [
        "## Getting pseudo-labeled data for training\n",
        "\n",
        "`0` represents viral language, `1` immigration language, and `2` a blend of the two. These categorizations are fuzzy and inexact and are not the result of manual annotations. They should be improved upon during the training process (or adjusted manually) when possible."
      ]
    },
    {
      "cell_type": "code",
      "metadata": {
        "id": "GP_YRJ4efdZk",
        "colab": {
          "base_uri": "https://localhost:8080/",
          "height": 198
        },
        "outputId": "68ff3be2-5938-460b-ac71-8d4c84a17f21"
      },
      "source": [
        "df = pd.read_csv('https://www.dropbox.com/s/kfbja23kisimedm/immigration.csv?dl=1')\n",
        "df.head()"
      ],
      "execution_count": null,
      "outputs": [
        {
          "output_type": "execute_result",
          "data": {
            "text/html": [
              "<div>\n",
              "<style scoped>\n",
              "    .dataframe tbody tr th:only-of-type {\n",
              "        vertical-align: middle;\n",
              "    }\n",
              "\n",
              "    .dataframe tbody tr th {\n",
              "        vertical-align: top;\n",
              "    }\n",
              "\n",
              "    .dataframe thead th {\n",
              "        text-align: right;\n",
              "    }\n",
              "</style>\n",
              "<table border=\"1\" class=\"dataframe\">\n",
              "  <thead>\n",
              "    <tr style=\"text-align: right;\">\n",
              "      <th></th>\n",
              "      <th>Unnamed: 0</th>\n",
              "      <th>target</th>\n",
              "      <th>sigmoid</th>\n",
              "      <th>text</th>\n",
              "    </tr>\n",
              "  </thead>\n",
              "  <tbody>\n",
              "    <tr>\n",
              "      <th>0</th>\n",
              "      <td>14823</td>\n",
              "      <td>2</td>\n",
              "      <td>0.699679</td>\n",
              "      <td>Writing on the Lawfare blog, Weaver noted that...</td>\n",
              "    </tr>\n",
              "    <tr>\n",
              "      <th>1</th>\n",
              "      <td>8950</td>\n",
              "      <td>2</td>\n",
              "      <td>0.699010</td>\n",
              "      <td>Months after the blazes, many immigrants emplo...</td>\n",
              "    </tr>\n",
              "    <tr>\n",
              "      <th>2</th>\n",
              "      <td>13815</td>\n",
              "      <td>2</td>\n",
              "      <td>0.697366</td>\n",
              "      <td>“Every day, sanctuary cities release illegal i...</td>\n",
              "    </tr>\n",
              "    <tr>\n",
              "      <th>3</th>\n",
              "      <td>11814</td>\n",
              "      <td>2</td>\n",
              "      <td>0.696693</td>\n",
              "      <td>It’s set on Mars and will have you fighting o...</td>\n",
              "    </tr>\n",
              "    <tr>\n",
              "      <th>4</th>\n",
              "      <td>15196</td>\n",
              "      <td>2</td>\n",
              "      <td>0.693552</td>\n",
              "      <td>On Thursday, Whitman re-tweeted a letter to M...</td>\n",
              "    </tr>\n",
              "  </tbody>\n",
              "</table>\n",
              "</div>"
            ],
            "text/plain": [
              "   Unnamed: 0  ...                                               text\n",
              "0       14823  ...  Writing on the Lawfare blog, Weaver noted that...\n",
              "1        8950  ...  Months after the blazes, many immigrants emplo...\n",
              "2       13815  ...  “Every day, sanctuary cities release illegal i...\n",
              "3       11814  ...   It’s set on Mars and will have you fighting o...\n",
              "4       15196  ...   On Thursday, Whitman re-tweeted a letter to M...\n",
              "\n",
              "[5 rows x 4 columns]"
            ]
          },
          "metadata": {
            "tags": []
          },
          "execution_count": 3
        }
      ]
    },
    {
      "cell_type": "code",
      "metadata": {
        "id": "H17o_BRpg-mO"
      },
      "source": [
        "X_train, X_valid, y_train, y_valid = train_test_split(df['text'], df['target'], train_size=0.7, random_state=42)"
      ],
      "execution_count": null,
      "outputs": []
    },
    {
      "cell_type": "code",
      "metadata": {
        "id": "ClV1og0whLPm",
        "colab": {
          "base_uri": "https://localhost:8080/"
        },
        "outputId": "7f98b8f5-feac-4163-f2ff-321aa65a373c"
      },
      "source": [
        "X_valid, y_valid"
      ],
      "execution_count": null,
      "outputs": [
        {
          "output_type": "execute_result",
          "data": {
            "text/plain": [
              "(17581     Rick Snyder about when the governor learned a...\n",
              " 2420     When I was five, my family and I immigrated to...\n",
              " 13476    The ED alleged that the FEMA violations were m...\n",
              " 12248    The State Department has a list of nearly 60 g...\n",
              " 12597    Immigrants’ rights groups have condemned the U...\n",
              "                                ...                        \n",
              " 10901                   Dreyfuss (who immigrated to the U.\n",
              " 19562     I had had a kidney infection and scar tissue,...\n",
              " 11622    The CBI case also accuses the airline's Indian...\n",
              " 1846     “Impugning the official objective of a formal ...\n",
              " 15841    The earlier periodontal disease is diagnosed i...\n",
              " Name: text, Length: 6226, dtype: object, 17581    0\n",
              " 2420     1\n",
              " 13476    1\n",
              " 12248    1\n",
              " 12597    1\n",
              "         ..\n",
              " 10901    1\n",
              " 19562    0\n",
              " 11622    1\n",
              " 1846     1\n",
              " 15841    0\n",
              " Name: target, Length: 6226, dtype: int64)"
            ]
          },
          "metadata": {
            "tags": []
          },
          "execution_count": 5
        }
      ]
    },
    {
      "cell_type": "markdown",
      "metadata": {
        "id": "JX4iLJRonxQQ"
      },
      "source": [
        "# Baseline 1\n",
        "\n",
        "Let's use Naive Bayes. For the sake of simplicity, I will not add weighting to the classes here (we probably should!), but sklearn wants its weights to correspond to samples in the train dataset (when using the fit method). So you would need to feed in a list of weights the same length as your samples. Think about the weights in a table corresponding to class like this:\n",
        "\n",
        "| Sample | Class | Weight |\n",
        "| --- | --- | --- |\n",
        "| sample 1 | 1 | 0.05 |\n",
        "| sample 2 | 2 | 0.8 |\n",
        "| sample 3 | 1 | 0.05 |\n",
        "| sample 4 | 0 | 0.15 |\n",
        "| sample 5 | 2 | 0.8 |"
      ]
    },
    {
      "cell_type": "code",
      "metadata": {
        "id": "OwRYRmOchooO",
        "colab": {
          "base_uri": "https://localhost:8080/"
        },
        "outputId": "05b1c149-b424-4342-81ad-4a389c6a3341"
      },
      "source": [
        "vectorizer = TfidfVectorizer()\n",
        "train_vectorized = vectorizer.fit_transform(X_train)\n",
        "valid_vectorized = vectorizer.transform(X_valid)\n",
        "train_vectorized"
      ],
      "execution_count": null,
      "outputs": [
        {
          "output_type": "execute_result",
          "data": {
            "text/plain": [
              "<14527x22580 sparse matrix of type '<class 'numpy.float64'>'\n",
              "\twith 339053 stored elements in Compressed Sparse Row format>"
            ]
          },
          "metadata": {
            "tags": []
          },
          "execution_count": 6
        }
      ]
    },
    {
      "cell_type": "code",
      "metadata": {
        "id": "nBKH6Xu8jKpn",
        "colab": {
          "base_uri": "https://localhost:8080/"
        },
        "outputId": "8d2ec64d-62b6-426a-aa7b-426821b33ee9"
      },
      "source": [
        "naive_bayes = MultinomialNB()\n",
        "naive_bayes.fit(train_vectorized, y_train)"
      ],
      "execution_count": null,
      "outputs": [
        {
          "output_type": "execute_result",
          "data": {
            "text/plain": [
              "MultinomialNB(alpha=1.0, class_prior=None, fit_prior=True)"
            ]
          },
          "metadata": {
            "tags": []
          },
          "execution_count": 7
        }
      ]
    },
    {
      "cell_type": "code",
      "metadata": {
        "id": "udHDb84ekKKo",
        "colab": {
          "base_uri": "https://localhost:8080/"
        },
        "outputId": "27a59ab9-8a86-4118-818a-77c78afe34ef"
      },
      "source": [
        "predictions = naive_bayes.predict(valid_vectorized)\n",
        "predictions"
      ],
      "execution_count": null,
      "outputs": [
        {
          "output_type": "execute_result",
          "data": {
            "text/plain": [
              "array([0, 1, 1, ..., 1, 1, 0])"
            ]
          },
          "metadata": {
            "tags": []
          },
          "execution_count": 8
        }
      ]
    },
    {
      "cell_type": "code",
      "metadata": {
        "id": "VHsGFjWflEuA",
        "colab": {
          "base_uri": "https://localhost:8080/"
        },
        "outputId": "a93412ed-9b6a-494e-a601-8d28bb8c5024"
      },
      "source": [
        "print(f'Accuracy: {accuracy_score(y_valid, predictions)}\\n'\n",
        "      f'Precision: {precision_score(y_valid, predictions, average=None)}\\n'\n",
        "      f'Recall: {recall_score(y_valid, predictions, average=None)}\\n'\n",
        "      f'F1 Score: {f1_score(y_valid, predictions, average=None)}\\n')"
      ],
      "execution_count": null,
      "outputs": [
        {
          "output_type": "stream",
          "text": [
            "Accuracy: 0.9649855444908448\n",
            "Precision: [0.99604156 0.95005945 0.        ]\n",
            "Recall: [0.92424242 0.99875    0.        ]\n",
            "F1 Score: [0.95879971 0.97379647 0.        ]\n",
            "\n"
          ],
          "name": "stdout"
        },
        {
          "output_type": "stream",
          "text": [
            "/usr/local/lib/python3.7/dist-packages/sklearn/metrics/_classification.py:1272: UndefinedMetricWarning: Precision is ill-defined and being set to 0.0 in labels with no predicted samples. Use `zero_division` parameter to control this behavior.\n",
            "  _warn_prf(average, modifier, msg_start, len(result))\n"
          ],
          "name": "stderr"
        }
      ]
    },
    {
      "cell_type": "code",
      "metadata": {
        "colab": {
          "base_uri": "https://localhost:8080/"
        },
        "id": "zUakWl4Ym8Fk",
        "outputId": "17494186-f9a6-4f23-e4bc-f94a831fa437"
      },
      "source": [
        "# y-axis (rows) == true label and x-axis (columns) == predicted label\n",
        "confusion_matrix(y_valid, predictions)"
      ],
      "execution_count": null,
      "outputs": [
        {
          "output_type": "execute_result",
          "data": {
            "text/plain": [
              "array([[2013,  165,    0],\n",
              "       [   5, 3995,    0],\n",
              "       [   3,   45,    0]])"
            ]
          },
          "metadata": {
            "tags": []
          },
          "execution_count": 14
        }
      ]
    },
    {
      "cell_type": "markdown",
      "metadata": {
        "id": "q_qlktr-hmpN"
      },
      "source": [
        "# Baseline 2"
      ]
    },
    {
      "cell_type": "code",
      "metadata": {
        "id": "ens__PI9yYXZ"
      },
      "source": [
        "model = BertForSequenceClassification.from_pretrained('bert-large-uncased', num_labels=3)\n",
        "tokenizer = BertTokenizer.from_pretrained('bert-large-uncased')"
      ],
      "execution_count": null,
      "outputs": []
    },
    {
      "cell_type": "code",
      "metadata": {
        "id": "lXSHqq2y1kJm"
      },
      "source": [
        "device = torch.device('cuda' if torch.cuda.is_available() else 'cpu')\n",
        "model = model.to(device)"
      ],
      "execution_count": null,
      "outputs": []
    },
    {
      "cell_type": "code",
      "metadata": {
        "id": "zJ_pvSboxwDd",
        "colab": {
          "base_uri": "https://localhost:8080/"
        },
        "outputId": "37c9cc3a-f4cb-496b-cee5-f7856d9c2c93"
      },
      "source": [
        "# the classes are extremely unbalanced; let's generate weights that we can feed to loss function\n",
        "unbalanced_weights = 1 / (y_train.value_counts() / len(y_train)).sort_index()\n",
        "weights = unbalanced_weights / unbalanced_weights.sum()\n",
        "weights"
      ],
      "execution_count": null,
      "outputs": [
        {
          "output_type": "execute_result",
          "data": {
            "text/plain": [
              "0    0.020874\n",
              "1    0.011266\n",
              "2    0.967860\n",
              "Name: target, dtype: float64"
            ]
          },
          "metadata": {
            "tags": []
          },
          "execution_count": 12
        }
      ]
    },
    {
      "cell_type": "code",
      "metadata": {
        "id": "u3woPdzvv3V8"
      },
      "source": [
        "# I will exclude datasets, dataloaders, etc. for the sake of simplicity\n",
        "criterion = nn.CrossEntropyLoss(weight=torch.tensor(weights.values).float().to(device))\n",
        "optimizer = optim.AdamW(model.parameters(), lr=1e-5)\n",
        "for epoch in range(1):  # make this up to 3!\n",
        "    running_loss = 0.\n",
        "    for batch_start in range(0, len(X_train), 4):\n",
        "        X = X_train[batch_start:batch_start + 4].tolist()\n",
        "        y = torch.tensor(y_train[batch_start:batch_start + 4].values).to(device)\n",
        "\n",
        "        predictions = model(**tokenizer(X, return_tensors='pt', padding=True).to(device))\n",
        "        loss = criterion(torch.softmax(predictions.logits, dim=-1), y)\n",
        "        optimizer.zero_grad()\n",
        "        loss.backward()\n",
        "        optimizer.step()\n",
        "        running_loss += loss.item()\n",
        "    print(f'Finished epoch {epoch} with running loss of {running_loss / len(X_train)}')"
      ],
      "execution_count": null,
      "outputs": []
    },
    {
      "cell_type": "code",
      "metadata": {
        "id": "qPr0EtydrWdf"
      },
      "source": [
        "# make predictions on validation set\n",
        "valid_predictions = torch.zeros_like(torch.tensor(y_valid.values))\n",
        "for batch_start in range(0, len(X_valid), 4):\n",
        "    X = X_valid[batch_start:batch_start + 4].tolist()\n",
        "\n",
        "    with torch.no_grad():\n",
        "        predictions = model(**tokenizer(X, return_tensors='pt', padding=True).to(device))\n",
        "        indices = torch.argmax(torch.softmax(predictions.logits, dim=-1), dim=-1)\n",
        "    valid_predictions[batch_start:batch_start + 4] = indices"
      ],
      "execution_count": null,
      "outputs": []
    },
    {
      "cell_type": "code",
      "metadata": {
        "id": "uieRbHKws0ue"
      },
      "source": [
        "print(f'Accuracy: {accuracy_score(y_valid, valid_predictions.numpy())}\\n'\n",
        "      f'Precision: {precision_score(y_valid, valid_predictions.numpy(), average=None)}\\n'\n",
        "      f'Recall: {recall_score(y_valid, valid_predictions.numpy(), average=None)}\\n'\n",
        "      f'F1 Score: {f1_score(y_valid, valid_predictions.numpy(), average=None)}\\n')"
      ],
      "execution_count": null,
      "outputs": []
    },
    {
      "cell_type": "code",
      "metadata": {
        "colab": {
          "base_uri": "https://localhost:8080/"
        },
        "id": "arCkVtfqs0up",
        "outputId": "77a67898-99e0-4da4-8d06-2a522a8c2ae1"
      },
      "source": [
        "# y-axis (rows) == true label and x-axis (columns) == predicted label\n",
        "confusion_matrix(y_valid, valid_predictions.numpy())"
      ],
      "execution_count": null,
      "outputs": [
        {
          "output_type": "execute_result",
          "data": {
            "text/plain": [
              "array([[2164,   14,    0],\n",
              "       [   1, 3999,    0],\n",
              "       [   6,   42,    0]])"
            ]
          },
          "metadata": {
            "tags": []
          },
          "execution_count": 17
        }
      ]
    },
    {
      "cell_type": "markdown",
      "metadata": {
        "id": "TnGRtXLfjl35"
      },
      "source": [
        "# Your Original System\n",
        "\n",
        "Improve upon the baselines above. Feel free to copy cells from one of the baselines above, paste it here, and tweak it for improvements. You have several models to select from from sklearn (both for classification and for vectorization of text). And even just trying different architectures for Basline 2 (such as RoBERTa, distilbert, etc.) would help."
      ]
    },
    {
      "cell_type": "code",
      "metadata": {
        "id": "z34apRjQjlWv"
      },
      "source": [
        ""
      ],
      "execution_count": null,
      "outputs": []
    }
  ]
}