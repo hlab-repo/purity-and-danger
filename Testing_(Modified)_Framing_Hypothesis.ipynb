{
 "nbformat": 4,
 "nbformat_minor": 0,
 "metadata": {
  "colab": {
   "name": "Testing (Modified) Framing Hypothesis.ipynb",
   "provenance": [],
   "collapsed_sections": [],
   "toc_visible": true
  },
  "kernelspec": {
   "name": "python3",
   "language": "python",
   "display_name": "Python 3"
  },
  "pycharm": {
   "stem_cell": {
    "cell_type": "raw",
    "source": [],
    "metadata": {
     "collapsed": false
    }
   }
  }
 },
 "cells": [
  {
   "cell_type": "markdown",
   "metadata": {
    "id": "ReG6HA-RTwoc",
    "colab_type": "text"
   },
   "source": [
    "# Test the Hypothesis: Summary of Context Word Vectors Can Identify Different Frames\n",
    "\n",
    "Our hypothesis is that we can identify different conceptual frames (so to speak) based upon some summary of the context words that surround a given term."
   ]
  },
  {
   "cell_type": "markdown",
   "metadata": {
    "id": "CXmTpt3wKypn",
    "colab_type": "text"
   },
   "source": [
    "## Set-up\n",
    "GloVe download can take 20-30 minutes in a Colab notebook. Feel free to try other embeddings as well [as listed here](https://torchtext.readthedocs.io/en/latest/vocab.html#torchtext.vocab.Vocab.load_vectors)."
   ]
  },
  {
   "cell_type": "code",
   "metadata": {
    "id": "s9IIKBBoJ3JQ",
    "colab_type": "code",
    "colab": {
     "base_uri": "https://localhost:8080/",
     "height": 52
    },
    "outputId": "abeeb434-3c70-4fa3-acef-8c0b8d40ddd9"
   },
   "source": [
    "\n",
    "import re\n",
    "\n",
    "import nltk\n",
    "import matplotlib.pyplot as plt\n",
    "import torch\n",
    "from sklearn.cluster import KMeans\n",
    "from torchtext.vocab import GloVe\n",
    "\n",
    "nltk.download('punkt')"
   ],
   "execution_count": null,
   "outputs": [
    {
     "output_type": "stream",
     "text": [
      "[nltk_data] Downloading package punkt to /root/nltk_data...\n",
      "[nltk_data]   Package punkt is already up-to-date!\n"
     ],
     "name": "stdout"
    }
   ]
  },
  {
   "cell_type": "code",
   "metadata": {
    "id": "h57kj_kXKuLi",
    "colab_type": "code",
    "colab": {}
   },
   "source": [
    "glove = GloVe()  # defaults to model built on 840 billion words"
   ],
   "execution_count": null,
   "outputs": []
  },
  {
   "cell_type": "markdown",
   "metadata": {
    "id": "dHyOaTPeUpPE",
    "colab_type": "text"
   },
   "source": [
    "## Compile test sentences for a given term\n",
    "**Not ideal, but for now, let's try it with CQPweb search results for \"infect\" or \"viral\" (smaller). Clean up, sentence-tokenize, and the make list of sentence strings that include the search term. Download the files here:  https://drive.google.com/file/d/1gNAtiPtEK1LKIn3i_zrEej_UYcqAcv17/view?usp=sharing (\"viral\") and https://drive.google.com/file/d/1EIdvMzI0aa8okmATxIMyMWltO5OeIwha/view?usp=sharing (\"infect\")\n",
    "\n"
   ]
  },
  {
   "cell_type": "code",
   "metadata": {
    "id": "FZvwFoiU1B8R",
    "colab_type": "code",
    "colab": {
     "resources": {
      "http://localhost:8080/nbextensions/google.colab/files.js": {
       "data": "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",
       "ok": true,
       "headers": [
        [
         "content-type",
         "application/javascript"
        ]
       ],
       "status": 200,
       "status_text": ""
      }
     },
     "base_uri": "https://localhost:8080/",
     "height": 72
    },
    "outputId": "0cc1d985-3e6d-49f5-e095-99ad053ca247"
   },
   "source": [
    "from google.colab import files\n",
    "uploaded = files.upload()"
   ],
   "execution_count": null,
   "outputs": [
    {
     "output_type": "display_data",
     "data": {
      "text/html": [
       "\n",
       "     <input type=\"file\" id=\"files-ff3cddcd-a31c-47ee-9d0f-c250ed4e412d\" name=\"files[]\" multiple disabled\n",
       "        style=\"border:none\" />\n",
       "     <output id=\"result-ff3cddcd-a31c-47ee-9d0f-c250ed4e412d\">\n",
       "      Upload widget is only available when the cell has been executed in the\n",
       "      current browser session. Please rerun this cell to enable.\n",
       "      </output>\n",
       "      <script src=\"/nbextensions/google.colab/files.js\"></script> "
      ],
      "text/plain": [
       "<IPython.core.display.HTML object>"
      ]
     },
     "metadata": {
      "tags": []
     }
    },
    {
     "output_type": "stream",
     "text": [
      "Saving infect50.txt to infect50.txt\n"
     ],
     "name": "stdout"
    }
   ]
  },
  {
   "cell_type": "code",
   "metadata": {
    "id": "cTikVCPEKxKE",
    "colab_type": "code",
    "colab": {
     "base_uri": "https://localhost:8080/",
     "height": 52
    },
    "outputId": "d6429f7b-621f-41b7-91ba-cc0d644fd21e"
   },
   "source": [
    "def get_sentences(word, filepath):\n",
    "    with open(filepath, encoding='utf-8', errors='ignore') as f:\n",
    "        text = f.read()\n",
    "        # to get rid of entry identifiers (e.g., \"7\tt__54e1311e_cf8b_11e6_8c57_2c600c9500f4\"):\n",
    "        text = re.sub('\\n[0-9]+\\t', '\\n ', text)\n",
    "        text = re.sub('t__\\S{36}\\s', '', text)\n",
    "    \n",
    "    entries = re.findall('\\n', text)\n",
    "    print(\"Total entries: \", len(entries))\n",
    "    \n",
    "    all_sentences = nltk.tokenize.sent_tokenize(text)\n",
    "    \n",
    "    sentences = list()\n",
    "    \n",
    "    for sentence in all_sentences:\n",
    "        if re.search(r'(\\s|^)' + word + r'(\\s|[.,?!])', sentence):\n",
    "            sentences.append(sentence)\n",
    "    \n",
    "    print(\"Total sentences: \", len(sentences))\n",
    "    return sentences\n",
    "\n",
    "sentences = get_sentences('infect', 'infect50.txt')"
   ],
   "execution_count": null,
   "outputs": [
    {
     "output_type": "stream",
     "text": [
      "Total entries:  50986\n",
      "Total sentences:  230\n"
     ],
     "name": "stdout"
    }
   ]
  },
  {
   "cell_type": "markdown",
   "metadata": {
    "id": "n1WLoES8VJhL",
    "colab_type": "text"
   },
   "source": [
    "## Test for Optimal K Clusters Using the Elbow Method\n",
    "The best number of clusters for the chosen word and the above sentences should be at the \"elbow\" of the line plot below. Consider trying `torch.mean` as well (and other aggregations)."
   ]
  },
  {
   "cell_type": "code",
   "metadata": {
    "id": "rP5a7HQmM9DV",
    "colab_type": "code",
    "colab": {}
   },
   "source": [
    "def summarize_word_context(word, sentence, window_size=5, method=torch.sum):\n",
    "    tokens = re.findall(r'\\w+', sentence.lower())\n",
    "    word = word.lower()\n",
    "    context_vectors = []\n",
    "    word_index = tokens.index(word)\n",
    "    for token in tokens[max(0, word_index - window_size):word_index + window_size]:\n",
    "        if token != word and glove.stoi.get(token):\n",
    "            token_vector = glove.vectors[glove.stoi[token]]\n",
    "            context_vectors.append(token_vector)\n",
    "    context_tensor = torch.stack(context_vectors)\n",
    "    # returns summary of shape of single context vector\n",
    "    return method(context_tensor, dim=0)"
   ],
   "execution_count": null,
   "outputs": []
  },
  {
   "cell_type": "code",
   "metadata": {
    "id": "q1e1JkDdO2_6",
    "colab_type": "code",
    "colab": {}
   },
   "source": [
    "def find_best_k(word, sentences, method=torch.sum, window_size=5):\n",
    "    # sum of squared distances of samples to their closest cluster center\n",
    "    context_summary_vectors = [summarize_word_context(\n",
    "        word, sentence, window_size=window_size, method=method\n",
    "        ) for sentence in sentences if word in sentence.lower()]\n",
    "    if method in (torch.max, torch.min):\n",
    "        context_summary_vectors = [v.values for v in context_summary_vectors]\n",
    "    context_summary_tensor = torch.stack(context_summary_vectors)\n",
    "    sum_squared_distances = []\n",
    "    possibilities = list(range(1, min(len(sentences) + 1, 20)))\n",
    "    for k in possibilities:\n",
    "        km = KMeans(n_clusters=k)\n",
    "        km = km.fit(context_summary_tensor.numpy())\n",
    "        sum_squared_distances.append(km.inertia_)\n",
    "    \n",
    "    # plot\n",
    "    plt.plot(possibilities, sum_squared_distances, 'bx-')\n",
    "    plt.xlabel('k')\n",
    "    plt.ylabel('Sum of Squared Distances')\n",
    "    plt.title('Elbow Plot for Optimal k')\n",
    "    plt.show()"
   ],
   "execution_count": null,
   "outputs": []
  },
  {
   "cell_type": "markdown",
   "metadata": {
    "id": "JgFvRuwbXP-f",
    "colab_type": "text"
   },
   "source": [
    "The following plot should have a distinct elbow at the ideal number of clusters (corresponding to different contexts) for the term used above."
   ]
  },
  {
   "cell_type": "code",
   "metadata": {
    "id": "R5Rjs9k5Rp4s",
    "colab_type": "code",
    "colab": {
     "base_uri": "https://localhost:8080/",
     "height": 295
    },
    "outputId": "c8d6b07b-1f2f-4f15-91a7-9b0d3912a4c7"
   },
   "source": [
    "find_best_k('infect', sentences, method=torch.sum, window_size=4)"
   ],
   "execution_count": null,
   "outputs": [
    {
     "output_type": "display_data",
     "data": {
      "image/png": "[encoded data removed]",
      "text/plain": [
       "<Figure size 432x288 with 1 Axes>"
      ]
     },
     "metadata": {
      "tags": [],
      "needs_background": "light"
     }
    }
   ]
  },
  {
   "cell_type": "markdown",
   "metadata": {
    "id": "9RAfL6qXpee6",
    "colab_type": "text"
   },
   "source": [
    "## Find different contexts of word using k from elbow above"
   ]
  },
  {
   "cell_type": "code",
   "metadata": {
    "id": "GOYRwI6-cVcp",
    "colab_type": "code",
    "colab": {}
   },
   "source": [
    "def label_samples(word, sentences, method=torch.sum, k=2, topn=10, window_size=5):\n",
    "    context_summary_vectors = [summarize_word_context(\n",
    "        word, sentence, method=method, window_size=window_size\n",
    "        ) for sentence in sentences if word in sentence.lower()]\n",
    "    if method in (torch.max, torch.min):\n",
    "        context_summary_vectors = [v.values for v in context_summary_vectors]\n",
    "    context_summary_tensor = torch.stack(context_summary_vectors)\n",
    "    kmeans = KMeans(n_clusters=k)\n",
    "    kmeans = kmeans.fit(context_summary_tensor.numpy())\n",
    "    labels_for_display = []\n",
    "    for i, label in enumerate(kmeans.labels_[:topn]):\n",
    "        labels_for_display.append((f'Label: {label} Sentence: {sentences[i]}', label))\n",
    "    labels_for_display.sort(key=lambda x: x[1])\n",
    "    for labeled_sent in labels_for_display:\n",
    "        print(labeled_sent[0])"
   ],
   "execution_count": null,
   "outputs": []
  },
  {
   "cell_type": "code",
   "metadata": {
    "id": "Vqf8PaAmqoty",
    "colab_type": "code",
    "colab": {
     "base_uri": "https://localhost:8080/",
     "height": 728
    },
    "outputId": "3c360744-f1a0-4114-c277-5374d957ac74"
   },
   "source": [
    "label_samples('infect', sentences, method=torch.sum, window_size=4, k=4, topn=40)"
   ],
   "execution_count": null,
   "outputs": [
    {
     "output_type": "stream",
     "text": [
      "Label: 0 Sentence: Tell us about how the malware did not infect the devices systems of your utility here .\n",
      "Label: 0 Sentence: But the core summed up pretty I think concisely which is , when he said that while Prime Minister Netanyahu publicly supports a two-state solution , that word '' publicly'' underlined , his government is pursuing settlement policy that infect render it impractical and effectively extinguishing it .\n",
      "Label: 0 Sentence: We have pointed out for years voting machines are computers and they have reprogrammable software and if they infect machines with malware they can give any answer .\n",
      "Label: 0 Sentence: That is the total failure of all modes , methods of prediction , the total failure of infect participant measurement politically in this country .\n",
      "Label: 0 Sentence: I can not sit idly by and watch as this abhorrent disease continues to infect what was once an honorable and respectable political party of the past .\n",
      "Label: 0 Sentence: The lenses are sold over the counter and authorities are now warning they may be contaminated with bacteria or contain chemicals that could infect your eyes .\n",
      "Label: 0 Sentence: The attack used new malwear used to disable or infect computer systems and took control of tens of millions of personal devices connected to the Internet like home routers , baby monitors and cameras without their owners' knowledge .\n",
      "Label: 0 Sentence: The attack used a new kind of software used to disable or infect computer systems .\n",
      "Label: 0 Sentence: Humi can lower your ability to fight infections , serious , sometimes fatal infect and cancers , SIS .\n",
      "Label: 0 Sentence: Humi can lower your ability to fight infections , serious , sometimes fatal infect and cancers , SIS .\n",
      "Label: 1 Sentence: Hackers managed to infect 1.3 million ANDROID phones through I I illegitamat APPS .\n",
      "Label: 1 Sentence: So infect the .\n",
      "Label: 1 Sentence: So infect the .\n",
      "Label: 1 Sentence: Federal investigators believe the attackers used malware called '' Mirai'' to infect people's devices in homes like Thermostat , fitness trackers , even baby monitors .\n",
      "Label: 1 Sentence: Hackers would need physical access to each machine they want to infect .\n",
      "Label: 2 Sentence: People are afraid it will infect them .\n",
      "Label: 2 Sentence: We now realize the way racial bias can infect us , even when we do not realize it .\n",
      "Label: 2 Sentence: They rarely jump species and infeskt humans , and when they infect humans , they do not efficiently spread from human-to-human .\n",
      "Label: 2 Sentence: So that , that could infect a lot of other things that Donald Trump said .\n",
      "Label: 2 Sentence: Who would know that fear would spread so fast , choke what was left of innocence , infect US still .\n",
      "Label: 2 Sentence: A MEA culpa that doc's ref baiting seems to trickle down and infect his entire team ?\n",
      "Label: 2 Sentence: We now realize the way racial base can infect us even when we do not realize it .\n",
      "Label: 2 Sentence: Because they have an unspoken agenda that they want to infect the jury and the trial with .\n",
      "Label: 2 Sentence: Voters will care when this starts to infect the public policy process which inevitably it will .\n",
      "Label: 2 Sentence: and John tweeted rusty old anchors belong at the bottom of the ocean and try not to infect him with grumpy NNS .\n",
      "Label: 2 Sentence: and John tweeted rusty old anchors belong at the bottom of the ocean and try not to infect him with grumpy NNS .\n",
      "Label: 2 Sentence: He also had the AIDS virus and officials in Oklahoma were warning people that he may try and infect other people with the disease .\n",
      "Label: 2 Sentence: And it would infect the right and it has .\n",
      "Label: 2 Sentence: Without a video to that infect that it's a fundraiser today and they sukted to night is for trump is an opportunity for a comeback .\n",
      "Label: 2 Sentence: What's in those e-mails is less important than the fact of foreign government is trying to infect our system , our electoral process .\n",
      "Label: 2 Sentence: You think this is having an infect on down ballot races ?\n",
      "Label: 2 Sentence: Even in the next couple years , you might get an e-mail and look like something you might know and you might click on it , and it could infect your computer .\n",
      "Label: 2 Sentence: You might get an e-mail and look like something you might know and it could infect your computer .\n",
      "Label: 2 Sentence: You can infect somebody else and even infect your eye which could be serious .\n",
      "Label: 2 Sentence: You can infect somebody else and even infect your eye which could be serious .\n",
      "Label: 2 Sentence: is virtually impossible for an HIV person whose stage went to infect a person and give them stage three .\n",
      "Label: 3 Sentence: He ask that we not let hate infect our hearts .\n",
      "Label: 3 Sentence: Do not let hate infect your heart .\n",
      "Label: 3 Sentence: Please do not let hate infect your heart .\n",
      "Label: 3 Sentence: He asked that we not let hate infect our hearts .\n"
     ],
     "name": "stdout"
    }
   ]
  },
  {
   "cell_type": "code",
   "metadata": {
    "id": "HTWili4Hq0oE",
    "colab_type": "code",
    "colab": {}
   },
   "source": [
    ""
   ],
   "execution_count": null,
   "outputs": []
  }
 ]
}